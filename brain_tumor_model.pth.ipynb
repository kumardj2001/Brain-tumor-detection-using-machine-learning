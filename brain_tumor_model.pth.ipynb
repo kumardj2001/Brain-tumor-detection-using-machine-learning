{
 "cells": [
  {
   "cell_type": "code",
   "execution_count": 2,
   "id": "3593a5b9",
   "metadata": {},
   "outputs": [],
   "source": [
    "import numpy as np\n",
    "import pandas as pd\n",
    "import matplotlib.pyplot as plt\n",
    "import os\n",
    "\n",
    "import torch\n",
    "import torch.optim as optim\n",
    "import torch.nn as nn\n",
    "import torch.nn.functional as F\n",
    "from torch.utils.data import Dataset\n",
    "\n",
    "from sklearn.utils import shuffle\n",
    "from PIL import Image\n",
    "from glob import glob"
   ]
  },
  {
   "cell_type": "code",
   "execution_count": 3,
   "id": "835689e8",
   "metadata": {},
   "outputs": [],
   "source": [
    "if torch.cuda.is_available():\n",
    "    device = torch.device(\"cuda:0\")\n",
    "    \n",
    "else:\n",
    "    device = torch.device(\"cpu\")"
   ]
  },
  {
   "cell_type": "markdown",
   "id": "55c279a2",
   "metadata": {},
   "source": [
    "### Custom Data generator\n"
   ]
  },
  {
   "cell_type": "code",
   "execution_count": 4,
   "id": "8f146296",
   "metadata": {},
   "outputs": [],
   "source": [
    "class BrainMRIDataset(Dataset):\n",
    "\n",
    "  def __init__(self,data_dir,reshape=True,height=128,width=128,autoencoder =False):\n",
    "\n",
    "    self.dataDirectory = data_dir\n",
    "    self.no_class = glob(data_dir+'/no/*')\n",
    "    self.yes_class = glob(data_dir+'/yes/*')\n",
    "\n",
    "    self.height = height\n",
    "    self.width = width\n",
    "    self.reshape = reshape\n",
    "    self.autoencoder = autoencoder\n",
    "\n",
    "    labels = [0 for i in range(len(self.no_class))]\n",
    "    labels += [1 for i in range(len(self.yes_class))]\n",
    "\n",
    "    image_links = self.no_class + self.yes_class\n",
    "\n",
    "    self.dataframe = pd.DataFrame({\"image\":image_links, \"labels\":labels})\n",
    "    self.dataframe.reset_index(inplace = True ,drop=True)\n",
    "\n",
    "  def __len__(self):\n",
    "    return len(self.no_class)+len(self.yes_class)\n",
    "\n",
    "  def __getitem__(self,idx):\n",
    "\n",
    "    image_list = self.dataframe[\"image\"][idx]\n",
    "    label_list = self.dataframe[\"labels\"][idx]\n",
    "\n",
    "    if type(image_list) == str:\n",
    "      image_list = [image_list]\n",
    "\n",
    "    if not isinstance(label_list,np.int64):\n",
    "      label_list = label_list.values\n",
    "\n",
    "    image_array = []\n",
    "\n",
    "    for image in image_list:\n",
    "      image = Image.open(image).convert(\"L\")\n",
    "\n",
    "      if self.reshape:\n",
    "        image = image.resize((self.height,self.width))\n",
    "\n",
    "      array = np.asarray(image)\n",
    "\n",
    "      array = array.reshape(1,self.height,self.width)\n",
    "\n",
    "      image_array.append(array)\n",
    "\n",
    "      \n",
    "\n",
    "    return [torch.tensor(image_array,device=device),torch.tensor(label_list,device=device)]\n",
    "\n",
    "\n",
    "\n",
    "  def __repr__(self):\n",
    "    return str(self.dataframe.head(10))\n",
    "     \n",
    "    "
   ]
  },
  {
   "cell_type": "code",
   "execution_count": 5,
   "id": "f0734acf",
   "metadata": {},
   "outputs": [],
   "source": [
    "dataset = BrainMRIDataset(\"C:/Users/DHEERAJ/Desktop/projectfinalyear/Brain_Tumor\")"
   ]
  },
  {
   "cell_type": "code",
   "execution_count": 6,
   "id": "df9b1036",
   "metadata": {},
   "outputs": [
    {
     "name": "stdout",
     "output_type": "stream",
     "text": [
      "                                               image  labels\n",
      "0  C:/Users/DHEERAJ/Desktop/projectfinalyear/Brai...       0\n",
      "1  C:/Users/DHEERAJ/Desktop/projectfinalyear/Brai...       0\n",
      "2  C:/Users/DHEERAJ/Desktop/projectfinalyear/Brai...       0\n",
      "3  C:/Users/DHEERAJ/Desktop/projectfinalyear/Brai...       0\n",
      "4  C:/Users/DHEERAJ/Desktop/projectfinalyear/Brai...       0\n",
      "5  C:/Users/DHEERAJ/Desktop/projectfinalyear/Brai...       0\n",
      "6  C:/Users/DHEERAJ/Desktop/projectfinalyear/Brai...       0\n",
      "7  C:/Users/DHEERAJ/Desktop/projectfinalyear/Brai...       0\n",
      "8  C:/Users/DHEERAJ/Desktop/projectfinalyear/Brai...       0\n",
      "9  C:/Users/DHEERAJ/Desktop/projectfinalyear/Brai...       0\n"
     ]
    }
   ],
   "source": [
    "print(dataset)\n"
   ]
  },
  {
   "cell_type": "markdown",
   "id": "2ba29ba6",
   "metadata": {},
   "source": [
    "# Custom CNN Model\n"
   ]
  },
  {
   "cell_type": "code",
   "execution_count": 7,
   "id": "dd35dc73",
   "metadata": {},
   "outputs": [],
   "source": [
    "class BrainTumorModel(nn.Module):\n",
    "\n",
    "  def __init__(self):      \n",
    "    super().__init__()\n",
    "\n",
    "    self.conv1 = nn.Sequential(\n",
    "        nn.Conv2d(1,256,kernel_size=3), #126*126*256\n",
    "        nn.MaxPool2d(2,2), # 63*63*256\n",
    "\n",
    "        nn.Conv2d(256,32,kernel_size=2) #63-2+1 = 62*62*32\n",
    "    )\n",
    "\n",
    "    # n-f+2p/s +1 \n",
    "\n",
    "    self.linear1 = nn.Linear(62,128)\n",
    "    self.linear2 = nn.Linear(128,64)\n",
    "    self.flat = nn.Flatten(1)\n",
    "    self.linear3 = nn.Linear(126976,2)\n",
    "\n",
    "\n",
    "  def forward(self,x):\n",
    "    x = F.relu(self.conv1(x))\n",
    "    x = F.relu(self.linear1(x))\n",
    "    x = self.linear2(x)\n",
    "    x = self.flat(x)\n",
    "    x = self.linear3(x)\n",
    "\n",
    "    return x"
   ]
  },
  {
   "cell_type": "code",
   "execution_count": 8,
   "id": "5b8a2003",
   "metadata": {},
   "outputs": [
    {
     "data": {
      "text/plain": [
       "BrainTumorModel(\n",
       "  (conv1): Sequential(\n",
       "    (0): Conv2d(1, 256, kernel_size=(3, 3), stride=(1, 1))\n",
       "    (1): MaxPool2d(kernel_size=2, stride=2, padding=0, dilation=1, ceil_mode=False)\n",
       "    (2): Conv2d(256, 32, kernel_size=(2, 2), stride=(1, 1))\n",
       "  )\n",
       "  (linear1): Linear(in_features=62, out_features=128, bias=True)\n",
       "  (linear2): Linear(in_features=128, out_features=64, bias=True)\n",
       "  (flat): Flatten(start_dim=1, end_dim=-1)\n",
       "  (linear3): Linear(in_features=126976, out_features=2, bias=True)\n",
       ")"
      ]
     },
     "execution_count": 8,
     "metadata": {},
     "output_type": "execute_result"
    }
   ],
   "source": [
    "model = BrainTumorModel()\n",
    "model.to(device)"
   ]
  },
  {
   "cell_type": "code",
   "execution_count": 9,
   "id": "e78e9f4d",
   "metadata": {},
   "outputs": [],
   "source": [
    "loss_fn = nn.CrossEntropyLoss()\n",
    "optimizer = optim.Adam(model.parameters())\n",
    "     "
   ]
  },
  {
   "cell_type": "code",
   "execution_count": null,
   "id": "0a6af50b",
   "metadata": {
    "scrolled": true
   },
   "outputs": [
    {
     "name": "stderr",
     "output_type": "stream",
     "text": [
      "C:\\Users\\DHEERAJ\\AppData\\Local\\Temp\\ipykernel_17920\\1972891195.py:52: UserWarning: Creating a tensor from a list of numpy.ndarrays is extremely slow. Please consider converting the list to a single numpy.ndarray with numpy.array() before converting to a tensor. (Triggered internally at C:\\actions-runner\\_work\\pytorch\\pytorch\\builder\\windows\\pytorch\\torch\\csrc\\utils\\tensor_new.cpp:281.)\n",
      "  return [torch.tensor(image_array,device=device),torch.tensor(label_list,device=device)]\n"
     ]
    },
    {
     "name": "stdout",
     "output_type": "stream",
     "text": [
      "Epochs 1  Training Loss 1135.76\n",
      "Epochs 2  Training Loss 12.83\n",
      "Epochs 3  Training Loss 1.21\n",
      "Epochs 4  Training Loss 1.23\n",
      "Epochs 5  Training Loss 1.13\n",
      "Epochs 6  Training Loss 1.16\n",
      "Epochs 7  Training Loss 1.11\n",
      "Epochs 8  Training Loss 1.12\n",
      "Epochs 9  Training Loss 1.09\n",
      "Epochs 10  Training Loss 1.08\n"
     ]
    }
   ],
   "source": [
    "epochs =100\n",
    "batch_size = 32\n",
    "loss_list = []\n",
    "\n",
    "for epoch in range(epochs):\n",
    "  total_loss = 0.0\n",
    "\n",
    "  for n in range(len(dataset)//batch_size):\n",
    "\n",
    "    data , target = dataset[n*batch_size : (n+1)*batch_size]\n",
    "\n",
    "    ypred = model.forward(data.float())\n",
    "    loss = loss_fn(ypred,target)\n",
    "\n",
    "    total_loss+=loss\n",
    "\n",
    "    optimizer.zero_grad() #clear the gradients\n",
    "    loss.backward() # calculate the gradeint\n",
    "    optimizer.step() # Wn = Wo - lr* gradeint\n",
    "\n",
    "  loss_list.append(total_loss/batch_size)\n",
    "\n",
    "  print(\"Epochs {}  Training Loss {:.2f}\".format(epoch+1,total_loss/n))\n",
    "    "
   ]
  },
  {
   "cell_type": "code",
   "execution_count": null,
   "id": "4c0c33a5",
   "metadata": {},
   "outputs": [],
   "source": [
    "fig = plt.figure(figsize=(10,10))\n",
    "plt.plot(list(range(epochs)),loss_list)\n",
    "plt.title(\"Loss vs Epochs\")\n",
    "plt.xlabel(\"Epochs\")\n",
    "plt.ylabel(\"Loss\")\n",
    "plt.show()"
   ]
  },
  {
   "cell_type": "code",
   "execution_count": null,
   "id": "80fa22d4",
   "metadata": {},
   "outputs": [],
   "source": [
    "mapping = {0:\"NO\",1:\"Yes\"}\n",
    "fig = plt.figure(figsize=(20,20))\n",
    "\n",
    "for i in range(5):\n",
    "  data,target = dataset[i]\n",
    "  pred = model.forward(data.float())\n",
    "\n",
    "  pred = torch.argmax(pred,dim=1)\n",
    "  plt.subplot(5,5,i+1)\n",
    "  plt.imshow(data[0][0].cpu())\n",
    "  plt.title(f\"Actual : {mapping[target.cpu().detach().item()]} Prediction : {mapping[pred.cpu().detach().item()]}\")\n",
    "  plt.show()\n"
   ]
  },
  {
   "cell_type": "code",
   "execution_count": null,
   "id": "02ced087",
   "metadata": {},
   "outputs": [],
   "source": [
    "torch.save(model.state_dict(), \"model.pth\")"
   ]
  },
  {
   "cell_type": "code",
   "execution_count": null,
   "id": "b2722c3a",
   "metadata": {},
   "outputs": [],
   "source": []
  }
 ],
 "metadata": {
  "kernelspec": {
   "display_name": "torch_kernel",
   "language": "python",
   "name": "torch_kernel"
  },
  "language_info": {
   "codemirror_mode": {
    "name": "ipython",
    "version": 3
   },
   "file_extension": ".py",
   "mimetype": "text/x-python",
   "name": "python",
   "nbconvert_exporter": "python",
   "pygments_lexer": "ipython3",
   "version": "3.10.7"
  }
 },
 "nbformat": 4,
 "nbformat_minor": 5
}
